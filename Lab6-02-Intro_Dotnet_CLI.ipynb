{
 "cells": [
  {
   "cell_type": "markdown",
   "metadata": {},
   "source": [
    "# แนะนำ dotnet CLI"
   ]
  },
  {
   "cell_type": "markdown",
   "metadata": {},
   "source": [
    "## คำสั่งพื้นฐาน"
   ]
  },
  {
   "cell_type": "markdown",
   "metadata": {},
   "source": [
    "เราสามารถสั่งให้ dotnet แสดงคำสั่งพื้นฐานออกมาโดยการใข้คำสั่ง dotnet คำสั่ง --help ซึ่งจะแสดงคำสั่งพร้อมรูปแบบการใช้งานโดยย่อออกมา\n",
    "\n",
    "TODO: รันคำสั่งใน block cell ด้านล่างนี้ (หมายเหตุ  block cell ด้านล่างใช้ kernel power shell ซึ่งสามารถเรียกใช้คำสั่งของระบบจาก notbook ได้โดยตรง)"
   ]
  },
  {
   "cell_type": "code",
   "execution_count": null,
   "metadata": {
    "dotnet_interactive": {
     "language": "pwsh"
    },
    "polyglot_notebook": {
     "kernelName": "pwsh"
    }
   },
   "outputs": [],
   "source": [
    "dotnet --help"
   ]
  },
  {
   "cell_type": "markdown",
   "metadata": {},
   "source": [
    "คำสั่งที่ใช้ในการทดลองพื้นฐาน จะมี 3 คำสั่งคือ new, build และ run ซึ่งสามารถศึกษารูปแบบการใช้งานโดยใช้คำสั่ง help ได้เช่นกัน"
   ]
  },
  {
   "cell_type": "markdown",
   "metadata": {},
   "source": [
    "### คำสั่ง dotnet new"
   ]
  },
  {
   "cell_type": "code",
   "execution_count": null,
   "metadata": {
    "dotnet_interactive": {
     "language": "pwsh"
    },
    "polyglot_notebook": {
     "kernelName": "pwsh"
    }
   },
   "outputs": [],
   "source": [
    "dotnet --help new"
   ]
  },
  {
   "cell_type": "markdown",
   "metadata": {},
   "source": [
    "ดูเพิ่มเติมที่\n",
    "\n",
    "https://learn.microsoft.com/en-us/dotnet/core/tools/dotnet-new"
   ]
  },
  {
   "cell_type": "markdown",
   "metadata": {},
   "source": [
    "### คำสั่ง dotnet build"
   ]
  },
  {
   "cell_type": "code",
   "execution_count": null,
   "metadata": {
    "dotnet_interactive": {
     "language": "pwsh"
    },
    "polyglot_notebook": {
     "kernelName": "pwsh"
    }
   },
   "outputs": [
    {
     "name": "stdout",
     "output_type": "stream",
     "text": [
      "Description:\n",
      "  .NET Builder\n",
      "\n",
      "Usage:\n",
      "  dotnet build [<PROJECT | SOLUTION>...] [options]\n",
      "\n",
      "Arguments:\n",
      "  <PROJECT | SOLUTION>  The project or solution file to operate on. If a file is not specified, the command will search the current directory for one.\n",
      "\n",
      "Options:\n",
      "  --ucr, --use-current-runtime         Use current runtime as the target runtime.\n",
      "  -f, --framework <FRAMEWORK>          The target framework to build for. The target framework must also be specified in the project file.\n",
      "  -c, --configuration <CONFIGURATION>  The configuration to use for building the project. The default for most projects is 'Debug'.\n",
      "  -r, --runtime <RUNTIME_IDENTIFIER>   The target runtime to build for.\n",
      "  --version-suffix <VERSION_SUFFIX>    Set the value of the $(VersionSuffix) property to use when building the project.\n",
      "  --no-restore                         Do not restore the project before building.\n",
      "  --interactive                        Allows the command to stop and wait for user input or action (for example to complete authentication).\n",
      "  -v, --verbosity <LEVEL>              Set the MSBuild verbosity level. Allowed values are q[uiet], m[inimal], n[ormal], d[etailed], and diag[nostic].\n",
      "  --debug\n",
      "  -o, --output <OUTPUT_DIR>            The output directory to place built artifacts in.\n",
      "  --artifacts-path <ARTIFACTS_DIR>     The artifacts path. All output from the project, including build, publish, and pack output, will go in subfolders under the specified path.\n",
      "  --no-incremental                     Do not use incremental building.\n",
      "  --no-dependencies                    Do not build project-to-project references and only build the specified project.\n",
      "  --nologo                             Do not display the startup banner or the copyright message.\n",
      "  --sc, --self-contained               Publish the .NET runtime with your application so the runtime doesn't need to be installed on the target machine.\n",
      "                                       The default is 'false.' However, when targeting .NET 7 or lower, the default is 'true' if a runtime identifier is specified.\n",
      "  --no-self-contained                  Publish your application as a framework dependent application. A compatible .NET runtime must be installed on the target machine to run your application.\n",
      "  -a, --arch <ARCH>                    The target architecture.\n",
      "  --os <OS>                            The target operating system.\n",
      "  --disable-build-servers              Force the command to ignore any persistent build servers.\n",
      "  -?, -h, --help                       Show command line help.\n",
      "\n"
     ]
    }
   ],
   "source": [
    "dotnet --help build"
   ]
  },
  {
   "cell_type": "markdown",
   "metadata": {},
   "source": [
    "### คำสั่ง dotnet build"
   ]
  },
  {
   "cell_type": "code",
   "execution_count": null,
   "metadata": {
    "dotnet_interactive": {
     "language": "pwsh"
    },
    "polyglot_notebook": {
     "kernelName": "pwsh"
    }
   },
   "outputs": [
    {
     "name": "stdout",
     "output_type": "stream",
     "text": [
      "Description:\n",
      "  .NET Run Command\n",
      "\n",
      "Usage:\n",
      "  dotnet run [<applicationArguments>...] [options]\n",
      "\n",
      "Arguments:\n",
      "  <applicationArguments>  Arguments passed to the application that is being run. []\n",
      "\n",
      "Options:\n",
      "  -c, --configuration <CONFIGURATION>     The configuration to run for. The default for most projects is 'Debug'.\n",
      "  -f, --framework <FRAMEWORK>             The target framework to run for. The target framework must also be specified in the project file.\n",
      "  -r, --runtime <RUNTIME_IDENTIFIER>      The target runtime to run for.\n",
      "  --project <project>                     The path to the project file to run (defaults to the current directory if there is only one project).\n",
      "  -lp, --launch-profile <launch-profile>  The name of the launch profile (if any) to use when launching the application.\n",
      "  --no-launch-profile                     Do not attempt to use launchSettings.json to configure the application.\n",
      "  --no-build                              Do not build the project before running. Implies --no-restore.\n",
      "  --interactive                           Allows the command to stop and wait for user input or action (for example to complete authentication).\n",
      "  --no-restore                            Do not restore the project before building.\n",
      "  --sc, --self-contained                  Publish the .NET runtime with your application so the runtime doesn't need to be installed on the target machine.\n",
      "                                          The default is 'false.' However, when targeting .NET 7 or lower, the default is 'true' if a runtime identifier is specified.\n",
      "  --no-self-contained                     Publish your application as a framework dependent application. A compatible .NET runtime must be installed on the target machine to run your application.\n",
      "  -v, --verbosity <LEVEL>                 Set the MSBuild verbosity level. Allowed values are q[uiet], m[inimal], n[ormal], d[etailed], and diag[nostic].\n",
      "  -a, --arch <ARCH>                       The target architecture.\n",
      "  --os <OS>                               The target operating system.\n",
      "  --disable-build-servers                 Force the command to ignore any persistent build servers.\n",
      "  --artifacts-path <ARTIFACTS_DIR>        The artifacts path. All output from the project, including build, publish, and pack output, will go in subfolders under the specified path.\n",
      "  -?, -h, --help                          Show command line help.\n",
      "\n"
     ]
    }
   ],
   "source": [
    "dotnet --help run"
   ]
  }
 ],
 "metadata": {
  "kernelspec": {
   "display_name": ".NET (C#)",
   "language": "C#",
   "name": ".net-csharp"
  },
  "polyglot_notebook": {
   "kernelInfo": {
    "defaultKernelName": "csharp",
    "items": [
     {
      "aliases": [],
      "languageName": "csharp",
      "name": "csharp"
     }
    ]
   }
  }
 },
 "nbformat": 4,
 "nbformat_minor": 2
}
